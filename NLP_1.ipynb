{
 "cells": [
  {
   "cell_type": "code",
   "execution_count": 1,
   "metadata": {},
   "outputs": [],
   "source": [
    "import numpy as np\n",
    "import pandas as pd"
   ]
  },
  {
   "cell_type": "code",
   "execution_count": 2,
   "metadata": {},
   "outputs": [
    {
     "data": {
      "text/html": [
       "<div>\n",
       "<style scoped>\n",
       "    .dataframe tbody tr th:only-of-type {\n",
       "        vertical-align: middle;\n",
       "    }\n",
       "\n",
       "    .dataframe tbody tr th {\n",
       "        vertical-align: top;\n",
       "    }\n",
       "\n",
       "    .dataframe thead th {\n",
       "        text-align: right;\n",
       "    }\n",
       "</style>\n",
       "<table border=\"1\" class=\"dataframe\">\n",
       "  <thead>\n",
       "    <tr style=\"text-align: right;\">\n",
       "      <th></th>\n",
       "      <th>x1</th>\n",
       "      <th>x2</th>\n",
       "      <th>x3</th>\n",
       "      <th>y</th>\n",
       "    </tr>\n",
       "  </thead>\n",
       "  <tbody>\n",
       "    <tr>\n",
       "      <th>0</th>\n",
       "      <td>0</td>\n",
       "      <td>0</td>\n",
       "      <td>0</td>\n",
       "      <td>0</td>\n",
       "    </tr>\n",
       "    <tr>\n",
       "      <th>1</th>\n",
       "      <td>0</td>\n",
       "      <td>0</td>\n",
       "      <td>1</td>\n",
       "      <td>0</td>\n",
       "    </tr>\n",
       "    <tr>\n",
       "      <th>2</th>\n",
       "      <td>0</td>\n",
       "      <td>1</td>\n",
       "      <td>0</td>\n",
       "      <td>0</td>\n",
       "    </tr>\n",
       "    <tr>\n",
       "      <th>3</th>\n",
       "      <td>0</td>\n",
       "      <td>1</td>\n",
       "      <td>1</td>\n",
       "      <td>0</td>\n",
       "    </tr>\n",
       "    <tr>\n",
       "      <th>4</th>\n",
       "      <td>1</td>\n",
       "      <td>0</td>\n",
       "      <td>0</td>\n",
       "      <td>0</td>\n",
       "    </tr>\n",
       "    <tr>\n",
       "      <th>5</th>\n",
       "      <td>1</td>\n",
       "      <td>0</td>\n",
       "      <td>1</td>\n",
       "      <td>0</td>\n",
       "    </tr>\n",
       "    <tr>\n",
       "      <th>6</th>\n",
       "      <td>1</td>\n",
       "      <td>1</td>\n",
       "      <td>0</td>\n",
       "      <td>0</td>\n",
       "    </tr>\n",
       "    <tr>\n",
       "      <th>7</th>\n",
       "      <td>1</td>\n",
       "      <td>1</td>\n",
       "      <td>1</td>\n",
       "      <td>1</td>\n",
       "    </tr>\n",
       "  </tbody>\n",
       "</table>\n",
       "</div>"
      ],
      "text/plain": [
       "   x1  x2  x3  y\n",
       "0   0   0   0  0\n",
       "1   0   0   1  0\n",
       "2   0   1   0  0\n",
       "3   0   1   1  0\n",
       "4   1   0   0  0\n",
       "5   1   0   1  0\n",
       "6   1   1   0  0\n",
       "7   1   1   1  1"
      ]
     },
     "execution_count": 2,
     "metadata": {},
     "output_type": "execute_result"
    }
   ],
   "source": [
    "AND = pd.DataFrame({'x1':(0,0,0,0,1,1,1,1),'x2':(0,0,1,1,0,0,1,1),'x3':(0,1,0,1,0,1,0,1),'y':(0,0,0,0,0,0,0,1)})\n",
    "AND"
   ]
  },
  {
   "cell_type": "code",
   "execution_count": 3,
   "metadata": {},
   "outputs": [
    {
     "data": {
      "text/plain": [
       "array([-1.27627727e-04, -4.11346212e-06, -1.26823008e-04, -4.27775419e-06])"
      ]
     },
     "execution_count": 3,
     "metadata": {},
     "output_type": "execute_result"
    }
   ],
   "source": [
    "weights = np.random.randn(4)*1e-4\n",
    "weights"
   ]
  },
  {
   "cell_type": "code",
   "execution_count": 4,
   "metadata": {},
   "outputs": [
    {
     "data": {
      "text/plain": [
       "0    0\n",
       "1    0\n",
       "2    0\n",
       "3    0\n",
       "4    0\n",
       "5    0\n",
       "6    0\n",
       "7    1\n",
       "Name: y, dtype: int64"
      ]
     },
     "execution_count": 4,
     "metadata": {},
     "output_type": "execute_result"
    }
   ],
   "source": [
    "inputs = AND[['x1','x2','x3']]\n",
    "output = AND['y']\n",
    "output"
   ]
  },
  {
   "cell_type": "code",
   "execution_count": 5,
   "metadata": {},
   "outputs": [],
   "source": [
    "g = lambda inputs,weights:np.where(np.dot(inputs,weights)>0,1,0)"
   ]
  },
  {
   "cell_type": "code",
   "execution_count": 6,
   "metadata": {},
   "outputs": [
    {
     "data": {
      "text/plain": [
       "array([[-1.],\n",
       "       [-1.],\n",
       "       [-1.],\n",
       "       [-1.],\n",
       "       [-1.],\n",
       "       [-1.],\n",
       "       [-1.],\n",
       "       [-1.]])"
      ]
     },
     "execution_count": 6,
     "metadata": {},
     "output_type": "execute_result"
    }
   ],
   "source": [
    "-np.ones((len(inputs),1))"
   ]
  },
  {
   "cell_type": "code",
   "execution_count": 7,
   "metadata": {},
   "outputs": [],
   "source": [
    "def train(inputs,output,weights,learning_factor,iterations):\n",
    "    inputs1 = np.c_[inputs,-np.ones((len(inputs),1))]\n",
    "    for n in range(iterations):\n",
    "        activation = g(inputs1,weights)\n",
    "        print(n,activation)\n",
    "        weights -= learning_factor*np.dot(np.transpose(inputs1), (activation - output))\n",
    "        print(n,weights)\n",
    "    return weights"
   ]
  },
  {
   "cell_type": "code",
   "execution_count": 8,
   "metadata": {},
   "outputs": [
    {
     "name": "stdout",
     "output_type": "stream",
     "text": [
      "0 [1 0 1 0 0 0 0 0]\n",
      "0 [ 9.87237227e-03 -4.11346212e-06  9.87317699e-03  9.99572225e-03]\n",
      "1 [0 0 0 0 0 1 0 1]\n",
      "1 [-1.27627727e-04 -4.11346212e-06 -1.26823008e-04  1.99957222e-02]\n",
      "2 [0 0 0 0 0 0 0 0]\n",
      "2 [0.00987237 0.00999589 0.00987318 0.00999572]\n",
      "3 [0 0 1 1 0 1 1 1]\n",
      "3 [-0.01012763 -0.02000411 -0.01012682  0.04999572]\n",
      "4 [0 0 0 0 0 0 0 0]\n",
      "4 [-0.00012763 -0.01000411 -0.00012682  0.03999572]\n",
      "5 [0 0 0 0 0 0 0 0]\n",
      "5 [ 9.87237227e-03 -4.11346212e-06  9.87317699e-03  2.99957222e-02]\n",
      "6 [0 0 0 0 0 0 0 0]\n",
      "6 [0.01987237 0.00999589 0.01987318 0.01999572]\n",
      "7 [0 0 0 1 0 1 1 1]\n",
      "7 [-0.00012763 -0.01000411 -0.00012682  0.04999572]\n",
      "8 [0 0 0 0 0 0 0 0]\n",
      "8 [ 9.87237227e-03 -4.11346212e-06  9.87317699e-03  3.99957222e-02]\n",
      "9 [0 0 0 0 0 0 0 0]\n",
      "9 [0.01987237 0.00999589 0.01987318 0.02999572]\n",
      "10 [0 0 0 0 0 1 0 1]\n",
      "10 [0.00987237 0.00999589 0.00987318 0.03999572]\n",
      "11 [0 0 0 0 0 0 0 0]\n",
      "11 [0.01987237 0.01999589 0.01987318 0.02999572]\n",
      "12 [0 0 0 1 0 1 1 1]\n",
      "12 [-1.27627727e-04 -4.11346212e-06 -1.26823008e-04  5.99957222e-02]\n",
      "13 [0 0 0 0 0 0 0 0]\n",
      "13 [0.00987237 0.00999589 0.00987318 0.04999572]\n",
      "14 [0 0 0 0 0 0 0 0]\n",
      "14 [0.01987237 0.01999589 0.01987318 0.03999572]\n",
      "15 [0 0 0 0 0 0 0 1]\n",
      "15 [0.01987237 0.01999589 0.01987318 0.03999572]\n",
      "16 [0 0 0 0 0 0 0 1]\n",
      "16 [0.01987237 0.01999589 0.01987318 0.03999572]\n",
      "17 [0 0 0 0 0 0 0 1]\n",
      "17 [0.01987237 0.01999589 0.01987318 0.03999572]\n",
      "18 [0 0 0 0 0 0 0 1]\n",
      "18 [0.01987237 0.01999589 0.01987318 0.03999572]\n",
      "19 [0 0 0 0 0 0 0 1]\n",
      "19 [0.01987237 0.01999589 0.01987318 0.03999572]\n"
     ]
    },
    {
     "data": {
      "text/plain": [
       "array([0.01987237, 0.01999589, 0.01987318, 0.03999572])"
      ]
     },
     "execution_count": 8,
     "metadata": {},
     "output_type": "execute_result"
    }
   ],
   "source": [
    "w = train(inputs,output,weights,0.01,20)\n",
    "w"
   ]
  }
 ],
 "metadata": {
  "kernelspec": {
   "display_name": "Python 3",
   "language": "python",
   "name": "python3"
  },
  "language_info": {
   "codemirror_mode": {
    "name": "ipython",
    "version": 3
   },
   "file_extension": ".py",
   "mimetype": "text/x-python",
   "name": "python",
   "nbconvert_exporter": "python",
   "pygments_lexer": "ipython3",
   "version": "3.7.6"
  }
 },
 "nbformat": 4,
 "nbformat_minor": 4
}
