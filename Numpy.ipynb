{
 "cells": [
  {
   "cell_type": "code",
   "execution_count": 5,
   "metadata": {},
   "outputs": [
    {
     "name": "stdout",
     "output_type": "stream",
     "text": [
      "[[ 8.  4.  2.  1.]\n",
      " [27.  9.  3.  1.]\n",
      " [64. 16.  4.  1.]]\n"
     ]
    }
   ],
   "source": [
    "#Question 1\n",
    "\n",
    "import numpy as np\n",
    "N = 4\n",
    "def Vandermonde(a):\n",
    "    x = np.ones(len(a))\n",
    "    for i in range(N):\n",
    "        if i !=0:\n",
    "            x = np.column_stack((a**(i),x))\n",
    "    print(x)\n",
    "y = np.array([2,3,4])   \n",
    "Vandermonde(y)"
   ]
  },
  {
   "cell_type": "code",
   "execution_count": 6,
   "metadata": {},
   "outputs": [
    {
     "name": "stdout",
     "output_type": "stream",
     "text": [
      "[[ 8  4  2  1]\n",
      " [27  9  3  1]\n",
      " [64 16  4  1]]\n"
     ]
    }
   ],
   "source": [
    "#Question 1 alternate answer\n",
    "\n",
    "N = 4\n",
    "x = np.array([2,3,4]) \n",
    "def  Vandermonde(x):\n",
    "    print(np.column_stack([x**(N-1-i) for i in range(N)]))\n",
    "Vandermonde(x)"
   ]
  },
  {
   "cell_type": "code",
   "execution_count": 7,
   "metadata": {},
   "outputs": [
    {
     "name": "stdout",
     "output_type": "stream",
     "text": [
      "Enter number of elements : 13\n",
      "3\n",
      "5\n",
      "7\n",
      "2\n",
      "8\n",
      "10\n",
      "11\n",
      "65\n",
      "72\n",
      "81\n",
      "99\n",
      "100\n",
      "150\n",
      "Sequence array =  [  3   5   7   2   8  10  11  65  72  81  99 100 150]\n",
      "Enter window size 3\n",
      "OUTPUT IS:  [  5.           4.66666667   5.66666667   6.66666667   9.66666667\n",
      "  28.66666667  49.33333333  72.66666667  84.          93.33333333\n",
      " 116.33333333]\n"
     ]
    }
   ],
   "source": [
    "#Question 2\n",
    "\n",
    "import numpy as np\n",
    "\n",
    "lst = []  # creating an empty list \n",
    "\n",
    "n = int(input(\"Enter number of elements : \")) # number of elemetns as input \n",
    "\n",
    "for i in range(0, n): \n",
    "    ele = int(input()) \n",
    "    lst.append(ele) # adding the element \n",
    "    \n",
    "lst = np.array(lst) # converting list to array\n",
    "\n",
    "print(\"Sequence array = \",lst) \n",
    "\n",
    "k = int(input(\"Enter window size \")) #window size\n",
    "\n",
    "z = []\n",
    "\n",
    "for i in range(n-k+1):\n",
    "    sum = 0\n",
    "    \n",
    "    for j in range(k):\n",
    "        sum = sum + lst[i+j]\n",
    "        \n",
    "    avg = sum/k\n",
    "    \n",
    "    z.append(avg)\n",
    "    \n",
    "m = np.array(z)\n",
    "\n",
    "print(\"OUTPUT IS: \",m.T)"
   ]
  }
 ],
 "metadata": {
  "kernelspec": {
   "display_name": "Python 3",
   "language": "python",
   "name": "python3"
  },
  "language_info": {
   "codemirror_mode": {
    "name": "ipython",
    "version": 3
   },
   "file_extension": ".py",
   "mimetype": "text/x-python",
   "name": "python",
   "nbconvert_exporter": "python",
   "pygments_lexer": "ipython3",
   "version": "3.7.6"
  }
 },
 "nbformat": 4,
 "nbformat_minor": 4
}
