{
 "cells": [
  {
   "cell_type": "markdown",
   "metadata": {},
   "source": [
    "Question 1.1  \n",
    " \n",
    "Write a Python Program to implement your own myreduce() function which works exactly like Python's built-in function reduce() "
   ]
  },
  {
   "cell_type": "code",
   "execution_count": 5,
   "metadata": {},
   "outputs": [
    {
     "name": "stdout",
     "output_type": "stream",
     "text": [
      "33\n",
      "-27\n",
      "20160\n"
     ]
    }
   ],
   "source": [
    "#Question 1.1\n",
    "def sum(x):\n",
    "    return x+y\n",
    "def mul(x):\n",
    "    return x*y\n",
    "def sub(x):\n",
    "    return x-y\n",
    "def myreduce(x,y):                 #defining the function\n",
    "    if x==sum:\n",
    "        a = 0\n",
    "        for p in range(len(y)):\n",
    "            a = a + y[p]         # adding all the numbers in the list\n",
    "    if x==sub:\n",
    "        a = 0\n",
    "        for p in range(len(y)):\n",
    "            y[0] = -1 * y[0]     # as we need to have the first number to be positive we are multiplying with -1\n",
    "            a = a - y[p]         # substracting all the numbers in the list\n",
    "    if x==mul:\n",
    "        a = 1\n",
    "        for p in range(len(y)):\n",
    "            a = a * y[p]        # multiplying all the numbers in the list\n",
    "    return a \n",
    "List = [3,4,5,6,7,8]            \n",
    "print(myreduce(sum,List))         #this will give addition of the numbers in the list\n",
    "print(myreduce(sub,List))         #this will give substraction of the numbers in the list\n",
    "print(myreduce(mul,List))         #this will give multiplication of the numbers in the list"
   ]
  },
  {
   "cell_type": "markdown",
   "metadata": {},
   "source": [
    "Question : 1.2  \n",
    " \n",
    "Write a Python program to implement your own myfilter() function which works exactly like Python's built-in function filter()"
   ]
  },
  {
   "cell_type": "code",
   "execution_count": 7,
   "metadata": {},
   "outputs": [
    {
     "name": "stdout",
     "output_type": "stream",
     "text": [
      "[4, 6, 8]\n",
      "[3, 5, 7]\n"
     ]
    }
   ],
   "source": [
    "#Question 1.2\n",
    "\n",
    "def even(x):\n",
    "    return (x%2 == 0)\n",
    "def odd(x):\n",
    "    return (x%2 != 0)\n",
    "def myfilter(x,y):                 #defining the function\n",
    "    out = []\n",
    "    if x==even:\n",
    "        for p in y:\n",
    "            if p%2 == 0:\n",
    "                out.append(p)\n",
    "    if x==odd:\n",
    "        for p in y:\n",
    "            if p%2 != 0:\n",
    "                out.append(p)  \n",
    "    return out \n",
    "List = [3,4,5,6,7,8] \n",
    "print(myfilter(even,List))         #this will give even numbers in the list\n",
    "print(myfilter(odd,List))          #this will give odd numbers in the list"
   ]
  },
  {
   "cell_type": "markdown",
   "metadata": {},
   "source": [
    "Question 2\n",
    "\n",
    "Implement List comprehensions to produce the following lists. \n",
    " \n",
    "Write List comprehensions to produce the following Lists \n",
    " \n",
    " \n",
    "['x', 'xx', 'xxx', 'xxxx', 'y', 'yy', 'yyy', 'yyyy', 'z', 'zz', 'zzz', 'zzzz'] \n",
    " \n",
    "['x', 'y', 'z', 'xx', 'yy', 'zz', 'xx', 'yy', 'zz', 'xxxx', 'yyyy', 'zzzz'] \n",
    " \n",
    "[[2], [3], [4], [3], [4], [5], [4], [5], [6]] \n",
    " \n",
    "[[2, 3, 4, 5], [3, 4, 5, 6], [4, 5, 6, 7], [5, 6, 7, 8]] \n",
    " \n",
    "[(1, 1), (2, 1), (3, 1), (1, 2), (2, 2), (3, 2), (1, 3), (2, 3), (3, 3)] "
   ]
  },
  {
   "cell_type": "code",
   "execution_count": 33,
   "metadata": {
    "scrolled": true
   },
   "outputs": [
    {
     "name": "stdout",
     "output_type": "stream",
     "text": [
      "['x', 'xx', 'xxx', 'xxxx', 'y', 'yy', 'yyy', 'yyyy', 'z', 'zz', 'zzz', 'zzzz']\n",
      "['x', 'y', 'z', 'xx', 'yy', 'zz', 'xxx', 'yyy', 'zzz', 'xxxx', 'yyyy', 'zzzz']\n",
      "[[2], [3], [4], [3], [4], [5], [4], [5], [6]]\n",
      "[[2, 3, 4, 5], [3, 4, 5, 6], [4, 5, 6, 7], [5, 6, 7, 8]]\n",
      "[(1, 1), (2, 1), (3, 1), (1, 2), (2, 2), (3, 2), (1, 3), (2, 3), (3, 3)]\n"
     ]
    }
   ],
   "source": [
    "#Question 2\n",
    "\n",
    "inputlist = ['x','y','z']                                  \n",
    "List1 = [i*num for i in inputlist for num in range(1,5)]   \n",
    "print(List1)                                               \n",
    "inputlist = ['x','y','z']\n",
    "List2= [i*num for num in range(1,5)for i in inputlist]\n",
    "print(List2)\n",
    "List3= [[j]for i in range(2,5) for j in range(i,i+3)]\n",
    "print(List3)\n",
    "List4 = [[j for j in range(i,i+4)] for i in range(2,6)]                                 \n",
    "print(List4)\n",
    "List5 = [(d,c) for c in range(1,4) for d in range(1,4)]\n",
    "print(List5)"
   ]
  },
  {
   "cell_type": "markdown",
   "metadata": {},
   "source": [
    "Question 3.  \n",
    " \n",
    "Implement a function longestWord() that takes a list of words and returns the longest one"
   ]
  },
  {
   "cell_type": "code",
   "execution_count": 16,
   "metadata": {},
   "outputs": [
    {
     "data": {
      "text/plain": [
       "'Bhuvana'"
      ]
     },
     "execution_count": 16,
     "metadata": {},
     "output_type": "execute_result"
    }
   ],
   "source": [
    "#Question 3\n",
    "\n",
    "List = ['Yash','Sreenu','Bhuvana','a','bc']\n",
    "def longestWord(x):\n",
    "    Max = 0\n",
    "    for i in List:\n",
    "        if len(i) > Max:\n",
    "            Max = len(i)\n",
    "            ans = i\n",
    "    return ans\n",
    "longestWord(List)"
   ]
  },
  {
   "cell_type": "code",
   "execution_count": 19,
   "metadata": {},
   "outputs": [
    {
     "data": {
      "text/plain": [
       "'Bhuvana'"
      ]
     },
     "execution_count": 19,
     "metadata": {},
     "output_type": "execute_result"
    }
   ],
   "source": [
    "#Question 3 another answer\n",
    "\n",
    "List = ['Yash','Sreenu','Bhuvana','a','bc']\n",
    "def longestWord(x):\n",
    "    return max(List,key = len)\n",
    "longestWord(List)"
   ]
  }
 ],
 "metadata": {
  "kernelspec": {
   "display_name": "Python 3",
   "language": "python",
   "name": "python3"
  },
  "language_info": {
   "codemirror_mode": {
    "name": "ipython",
    "version": 3
   },
   "file_extension": ".py",
   "mimetype": "text/x-python",
   "name": "python",
   "nbconvert_exporter": "python",
   "pygments_lexer": "ipython3",
   "version": "3.7.6"
  }
 },
 "nbformat": 4,
 "nbformat_minor": 4
}
