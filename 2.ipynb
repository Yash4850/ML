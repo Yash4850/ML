{
 "cells": [
  {
   "cell_type": "markdown",
   "metadata": {},
   "source": [
    "Task 1:   \n",
    " \n",
    "Question 1.1  \n",
    " \n",
    "Write a Python Program to implement your own myreduce() function which works exactly like Python's built-in function reduce() "
   ]
  },
  {
   "cell_type": "code",
   "execution_count": 5,
   "metadata": {},
   "outputs": [
    {
     "name": "stdout",
     "output_type": "stream",
     "text": [
      "33\n",
      "-27\n",
      "20160\n"
     ]
    }
   ],
   "source": [
    "#Task 1\n",
    "#Question 1.1\n",
    "def sum(x):\n",
    "    return x+y\n",
    "def mul(x):\n",
    "    return x*y\n",
    "def sub(x):\n",
    "    return x-y\n",
    "def myreduce(x,y):                 #defining the function\n",
    "    if x==sum:\n",
    "        a = 0\n",
    "        for p in range(len(y)):\n",
    "            a = a + y[p]         # adding all the numbers in the list\n",
    "    if x==sub:\n",
    "        a = 0\n",
    "        for p in range(len(y)):\n",
    "            y[0] = -1 * y[0]     # as we need to have the first number to be positive we are multiplying with -1\n",
    "            a = a - y[p]         # substracting all the numbers in the list\n",
    "    if x==mul:\n",
    "        a = 1\n",
    "        for p in range(len(y)):\n",
    "            a = a * y[p]        # multiplying all the numbers in the list\n",
    "    return a \n",
    "List = [3,4,5,6,7,8]            \n",
    "print(myreduce(sum,List))         #this will give addition of the numbers in the list\n",
    "print(myreduce(sub,List))         #this will give substraction of the numbers in the list\n",
    "print(myreduce(mul,List))         #this will give multiplication of the numbers in the list"
   ]
  },
  {
   "cell_type": "markdown",
   "metadata": {},
   "source": [
    "Question : 1.2  \n",
    " \n",
    "Write a Python program to implement your own myfilter() function which works exactly like Python's built-in function filter()"
   ]
  },
  {
   "cell_type": "code",
   "execution_count": 7,
   "metadata": {},
   "outputs": [
    {
     "name": "stdout",
     "output_type": "stream",
     "text": [
      "[4, 6, 8]\n",
      "[3, 5, 7]\n"
     ]
    }
   ],
   "source": [
    "#Question 1.2\n",
    "\n",
    "def even(x):\n",
    "    return (x%2 == 0)\n",
    "def odd(x):\n",
    "    return (x%2 != 0)\n",
    "def myfilter(x,y):                 #defining the function\n",
    "    out = []\n",
    "    if x==even:\n",
    "        for p in y:\n",
    "            if p%2 == 0:\n",
    "                out.append(p)\n",
    "    if x==odd:\n",
    "        for p in y:\n",
    "            if p%2 != 0:\n",
    "                out.append(p)  \n",
    "    return out \n",
    "List = [3,4,5,6,7,8] \n",
    "print(myfilter(even,List))         #this will give even numbers in the list\n",
    "print(myfilter(odd,List))          #this will give odd numbers in the list"
   ]
  },
  {
   "cell_type": "markdown",
   "metadata": {},
   "source": [
    "Question 2\n",
    "\n",
    "Implement List comprehensions to produce the following lists. \n",
    " \n",
    "Write List comprehensions to produce the following Lists \n",
    " \n",
    " \n",
    "['x', 'xx', 'xxx', 'xxxx', 'y', 'yy', 'yyy', 'yyyy', 'z', 'zz', 'zzz', 'zzzz'] \n",
    " \n",
    "['x', 'y', 'z', 'xx', 'yy', 'zz', 'xx', 'yy', 'zz', 'xxxx', 'yyyy', 'zzzz'] \n",
    " \n",
    "[[2], [3], [4], [3], [4], [5], [4], [5], [6]] \n",
    " \n",
    "[[2, 3, 4, 5], [3, 4, 5, 6], [4, 5, 6, 7], [5, 6, 7, 8]] \n",
    " \n",
    "[(1, 1), (2, 1), (3, 1), (1, 2), (2, 2), (3, 2), (1, 3), (2, 3), (3, 3)] "
   ]
  },
  {
   "cell_type": "code",
   "execution_count": 33,
   "metadata": {
    "scrolled": true
   },
   "outputs": [
    {
     "name": "stdout",
     "output_type": "stream",
     "text": [
      "['x', 'xx', 'xxx', 'xxxx', 'y', 'yy', 'yyy', 'yyyy', 'z', 'zz', 'zzz', 'zzzz']\n",
      "['x', 'y', 'z', 'xx', 'yy', 'zz', 'xxx', 'yyy', 'zzz', 'xxxx', 'yyyy', 'zzzz']\n",
      "[[2], [3], [4], [3], [4], [5], [4], [5], [6]]\n",
      "[[2, 3, 4, 5], [3, 4, 5, 6], [4, 5, 6, 7], [5, 6, 7, 8]]\n",
      "[(1, 1), (2, 1), (3, 1), (1, 2), (2, 2), (3, 2), (1, 3), (2, 3), (3, 3)]\n"
     ]
    }
   ],
   "source": [
    "#Question 2\n",
    "\n",
    "inputlist = ['x','y','z']                                  \n",
    "List1 = [i*num for i in inputlist for num in range(1,5)]   \n",
    "print(List1)                                               \n",
    "inputlist = ['x','y','z']\n",
    "List2= [i*num for num in range(1,5)for i in inputlist]\n",
    "print(List2)\n",
    "List3= [[j]for i in range(2,5) for j in range(i,i+3)]\n",
    "print(List3)\n",
    "List4 = [[j for j in range(i,i+4)] for i in range(2,6)]                                 \n",
    "print(List4)\n",
    "List5 = [(d,c) for c in range(1,4) for d in range(1,4)]\n",
    "print(List5)"
   ]
  },
  {
   "cell_type": "markdown",
   "metadata": {},
   "source": [
    "Question 3.  \n",
    " \n",
    "Implement a function longestWord() that takes a list of words and returns the longest one"
   ]
  },
  {
   "cell_type": "code",
   "execution_count": 16,
   "metadata": {},
   "outputs": [
    {
     "data": {
      "text/plain": [
       "'Bhuvana'"
      ]
     },
     "execution_count": 16,
     "metadata": {},
     "output_type": "execute_result"
    }
   ],
   "source": [
    "#Question 3\n",
    "\n",
    "List = ['Yash','Sreenu','Bhuvana','a','bc']\n",
    "def longestWord(x):\n",
    "    Max = 0\n",
    "    for i in List:\n",
    "        if len(i) > Max:\n",
    "            Max = len(i)\n",
    "            ans = i\n",
    "    return ans\n",
    "longestWord(List)"
   ]
  },
  {
   "cell_type": "code",
   "execution_count": 19,
   "metadata": {},
   "outputs": [
    {
     "data": {
      "text/plain": [
       "'Bhuvana'"
      ]
     },
     "execution_count": 19,
     "metadata": {},
     "output_type": "execute_result"
    }
   ],
   "source": [
    "#Question 3 another answer\n",
    "\n",
    "List = ['Yash','Sreenu','Bhuvana','a','bc']\n",
    "def longestWord(x):\n",
    "    return max(List,key = len)\n",
    "longestWord(List)"
   ]
  },
  {
   "cell_type": "markdown",
   "metadata": {},
   "source": [
    "Task 2\n",
    "Question 1.1\n",
    "Write a Python Program(with class concepts) to find the area of the triangle using the below formula. \n",
    " \n",
    "area = (s*(s-a)*(s-b)*(s-c)) ** 0.5 \n",
    " \n",
    "Function to take the length of the sides of triangle from user should be defined in the parent class and function to calculate the area should be defined in subclass."
   ]
  },
  {
   "cell_type": "code",
   "execution_count": 19,
   "metadata": {},
   "outputs": [
    {
     "name": "stdout",
     "output_type": "stream",
     "text": [
      "Enter the sides of the triangle: 2\n",
      "3\n",
      "4\n",
      "2.9047375096555625\n"
     ]
    }
   ],
   "source": [
    "# Question 1.1\n",
    "class triangle():                     # parent class\n",
    "    def __init__(self, a, b, c):\n",
    "        self.a = a\n",
    "        self.b = b\n",
    "        self.c = c\n",
    "\n",
    "class area(triangle):                 # child class\n",
    "    def __init__(self, a, b, c):\n",
    "        super().__init__(a, b, c)\n",
    "\n",
    "    def ar(self):\n",
    "        s = (self.a + self.b + self.c) / 2\n",
    "        ar = (s * (s - self.a) * (s - self.b) * (s - self.c)) ** 0.5\n",
    "        return ar\n",
    "\n",
    "a=input(\"Enter the sides of the triangle: \")\n",
    "b= input()\n",
    "c =input()\n",
    "q = area(float(a),float(b),float(c))\n",
    "print(q.ar())"
   ]
  },
  {
   "cell_type": "markdown",
   "metadata": {},
   "source": [
    "Question : 1.2 \n",
    " \n",
    "Write a function filter_long_words() that takes a list of words and an integer n and returns the list of words that are longer than n. "
   ]
  },
  {
   "cell_type": "code",
   "execution_count": 11,
   "metadata": {},
   "outputs": [
    {
     "data": {
      "text/plain": [
       "['Yash', 'Sreenu', 'Bhuvana', 'bc', 'cdf']"
      ]
     },
     "execution_count": 11,
     "metadata": {},
     "output_type": "execute_result"
    }
   ],
   "source": [
    "#Question 1.2\n",
    "\n",
    "List = ['Yash','Sreenu','Bhuvana','a','bc','cdf']\n",
    "def filter_long_words(x,n):\n",
    "    ans = []\n",
    "    for i in List:\n",
    "        if len(i) > n:\n",
    "            ans.append(i)\n",
    "    return ans\n",
    "filter_long_words(List,1)"
   ]
  },
  {
   "cell_type": "markdown",
   "metadata": {},
   "source": [
    "Question:2.1 \n",
    " \n",
    "Write a Python program using function concept that maps  list of words into a list of integers representing the lengths of the corresponding words​. \n",
    " Hint: ​If a list [ ab,cde,erty] is passed on to the python function output should come as [2,3,4] \n",
    " Here 2,3 and 4 are the lengths of the words in the list. "
   ]
  },
  {
   "cell_type": "code",
   "execution_count": 25,
   "metadata": {},
   "outputs": [
    {
     "name": "stdout",
     "output_type": "stream",
     "text": [
      "[4, 6, 7, 1, 2, 3]\n"
     ]
    }
   ],
   "source": [
    "#Question 2.1\n",
    "\n",
    "words = ['Yash','Sreenu','Bhuvana','a','bc','cdf']\n",
    "def length(x):                             \n",
    "    return len(x) \n",
    "result = map(length,words)\n",
    "print(list(result))"
   ]
  },
  {
   "cell_type": "markdown",
   "metadata": {},
   "source": [
    "Question : 2.2 \n",
    " \n",
    "Write a Python function which takes a character (i.e. a string of length 1) and returns True if it is a vowel, False otherwise. "
   ]
  },
  {
   "cell_type": "code",
   "execution_count": 50,
   "metadata": {},
   "outputs": [
    {
     "name": "stdout",
     "output_type": "stream",
     "text": [
      "Please enter a character, if you enter string it gives false :e\n",
      "True\n"
     ]
    }
   ],
   "source": [
    "def vowel(x):\n",
    "    if (len(x)==1) and (x == 'a' or x == 'e' or x == 'i' or x == 'o' or x == 'u'):\n",
    "        return True\n",
    "    else:\n",
    "        return False\n",
    "a = input(\"Please enter a character, if you enter string it gives false :\")\n",
    "print(vowel(a))"
   ]
  }
 ],
 "metadata": {
  "kernelspec": {
   "display_name": "Python 3",
   "language": "python",
   "name": "python3"
  },
  "language_info": {
   "codemirror_mode": {
    "name": "ipython",
    "version": 3
   },
   "file_extension": ".py",
   "mimetype": "text/x-python",
   "name": "python",
   "nbconvert_exporter": "python",
   "pygments_lexer": "ipython3",
   "version": "3.7.6"
  }
 },
 "nbformat": 4,
 "nbformat_minor": 4
}
