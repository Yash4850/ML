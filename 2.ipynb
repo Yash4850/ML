{
 "cells": [
  {
   "cell_type": "code",
   "execution_count": 2,
   "metadata": {},
   "outputs": [
    {
     "name": "stdout",
     "output_type": "stream",
     "text": [
      "*\n",
      "**\n",
      "***\n",
      "****\n",
      "*****\n",
      "****\n",
      "***\n",
      "**\n",
      "*\n"
     ]
    }
   ],
   "source": [
    "#Question 1\n",
    "for i in range(1,6):\n",
    "    for j in range(1,i+1):\n",
    "        print(\"*\",end = \"\")\n",
    "    print()\n",
    "for i in range(5,1,-1):\n",
    "    for j in range(1,i):\n",
    "        print(\"*\",end = \"\")\n",
    "    print()"
   ]
  },
  {
   "cell_type": "code",
   "execution_count": 4,
   "metadata": {},
   "outputs": [
    {
     "name": "stdout",
     "output_type": "stream",
     "text": [
      "*\n",
      "**\n",
      "***\n",
      "****\n",
      "*****\n",
      "****\n",
      "***\n",
      "**\n",
      "*\n"
     ]
    }
   ],
   "source": [
    "#Question 1 another answer\n",
    "for i in range(1,10):\n",
    "    if i < 6:\n",
    "        for j in range(1,i+1):\n",
    "            print(\"*\",end = \"\")\n",
    "    if i == 6:\n",
    "        for j in range(i-1,1,-1):\n",
    "            print(\"*\",end = \"\")\n",
    "    if i == 7:\n",
    "        for j in range(i-3,1,-1):\n",
    "            print(\"*\",end = \"\")\n",
    "    if i == 8:\n",
    "        for j in range(i-5,1,-1):\n",
    "            print(\"*\",end = \"\")\n",
    "    if i == 9:\n",
    "        for j in range(i-7,1,-1):\n",
    "            print(\"*\",end = \"\")\n",
    "    print()"
   ]
  },
  {
   "cell_type": "code",
   "execution_count": 6,
   "metadata": {},
   "outputs": [
    {
     "name": "stdout",
     "output_type": "stream",
     "text": [
      "Enter word: ineuron\n",
      "Reverse word: norueni\n"
     ]
    }
   ],
   "source": [
    "#Question 2\n",
    "a = input(\"Enter word: \")\n",
    "b =\"\"\n",
    "for i in a:\n",
    "    b = i+b\n",
    "print(\"Reverse word:\", b)"
   ]
  },
  {
   "cell_type": "code",
   "execution_count": 8,
   "metadata": {},
   "outputs": [
    {
     "name": "stdout",
     "output_type": "stream",
     "text": [
      "Enter word: ineuron\n",
      "reverse word:  norueni\n"
     ]
    }
   ],
   "source": [
    "#Question 2 another answer\n",
    "a = input(\"Enter word: \")\n",
    "b = a[::-1]\n",
    "print(\"reverse word: \", b)"
   ]
  }
 ],
 "metadata": {
  "kernelspec": {
   "display_name": "Python 3",
   "language": "python",
   "name": "python3"
  },
  "language_info": {
   "codemirror_mode": {
    "name": "ipython",
    "version": 3
   },
   "file_extension": ".py",
   "mimetype": "text/x-python",
   "name": "python",
   "nbconvert_exporter": "python",
   "pygments_lexer": "ipython3",
   "version": "3.7.6"
  }
 },
 "nbformat": 4,
 "nbformat_minor": 4
}
