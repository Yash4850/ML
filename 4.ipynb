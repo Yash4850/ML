{
 "cells": [
  {
   "cell_type": "markdown",
   "metadata": {},
   "source": [
    "Question 1.1 \n",
    "Write a Python Program(with class concepts) to find the area of the triangle using the below formula.\n",
    "\n",
    "area = (s(s-a)(s-b)(s-c)) * 0.5\n",
    "\n",
    "Function to take the length of the sides of triangle from user should be defined in the parent class and function to calculate the area should be defined in subclass."
   ]
  },
  {
   "cell_type": "code",
   "execution_count": 3,
   "metadata": {},
   "outputs": [
    {
     "name": "stdout",
     "output_type": "stream",
     "text": [
      "Enter a side of the triangle: 8\n",
      "Enter a side of the triangle: 9\n",
      "Enter a side of the triangle: 9\n",
      "Area of Triangle : 32.2490309931942\n"
     ]
    }
   ],
   "source": [
    "# Question 1.1\n",
    "class triangle():                     # parent class\n",
    "    def __init__(self, a, b, c):\n",
    "        self.a = a\n",
    "        self.b = b\n",
    "        self.c = c\n",
    "\n",
    "class area(triangle):                 # child class\n",
    "    def __init__(self, a, b, c):\n",
    "        super().__init__(a, b, c)     # to initialize variables in child class we need to use super function\n",
    "\n",
    "    def ar(self):\n",
    "        s = (self.a + self.b + self.c) / 2\n",
    "        ar = (s * (s - self.a) * (s - self.b) * (s - self.c)) ** 0.5\n",
    "        return ar\n",
    "\n",
    "a=input(\"Enter a side of the triangle: \")\n",
    "b= input(\"Enter a side of the triangle: \")\n",
    "c =input(\"Enter a side of the triangle: \")\n",
    "q = area(float(a),float(b),float(c))\n",
    "print(\"Area of Triangle :\", q.ar())"
   ]
  },
  {
   "cell_type": "markdown",
   "metadata": {},
   "source": [
    "Question : 1.2\n",
    "\n",
    "Write a function filter_long_words() that takes a list of words and an integer n and returns the list of words that are longer than n."
   ]
  },
  {
   "cell_type": "code",
   "execution_count": 8,
   "metadata": {},
   "outputs": [
    {
     "name": "stdout",
     "output_type": "stream",
     "text": [
      "Enter the number:4\n"
     ]
    },
    {
     "data": {
      "text/plain": [
       "['Sreenu', 'Bhuvana']"
      ]
     },
     "execution_count": 8,
     "metadata": {},
     "output_type": "execute_result"
    }
   ],
   "source": [
    "#Question 1.2\n",
    "\n",
    "List = ['Yash','Sreenu','Bhuvana','a','bc','cdf']\n",
    "def filter_long_words(x,n):\n",
    "    ans = []\n",
    "    for i in List:\n",
    "        if len(i) > n:\n",
    "            ans.append(i)\n",
    "    return ans\n",
    "a = int(input(\"Enter the number:\" ))\n",
    "filter_long_words(List,a)"
   ]
  },
  {
   "cell_type": "markdown",
   "metadata": {},
   "source": [
    "Question:2.1 \n",
    " \n",
    "Write a Python program using function concept that maps  list of words into a list of integers representing the lengths of the corresponding words​. "
   ]
  },
  {
   "cell_type": "code",
   "execution_count": 12,
   "metadata": {},
   "outputs": [
    {
     "name": "stdout",
     "output_type": "stream",
     "text": [
      "[4, 6, 7, 1, 2, 3]\n"
     ]
    }
   ],
   "source": [
    "#Question 2.1\n",
    "\n",
    "words = ['Yash','Sreenu','Bhuvana','a','bc','cdf']\n",
    "def length(x):                             \n",
    "    return len(x) \n",
    "result = map(length,words)\n",
    "print(list(result))"
   ]
  },
  {
   "cell_type": "markdown",
   "metadata": {},
   "source": [
    "Question : 2.2 \n",
    " \n",
    "Write a Python function which takes a character (i.e. a string of length 1) and returns True if it is a vowel, False otherwise."
   ]
  },
  {
   "cell_type": "code",
   "execution_count": 11,
   "metadata": {},
   "outputs": [
    {
     "name": "stdout",
     "output_type": "stream",
     "text": [
      "Please enter a character, if you enter string it gives false :r\n",
      "False\n"
     ]
    }
   ],
   "source": [
    "#Question 2.2\n",
    "\n",
    "def vowel(x):\n",
    "    if (len(x)==1) and (x == 'a' or x == 'e' or x == 'i' or x == 'o' or x == 'u'):\n",
    "        return True\n",
    "    else:\n",
    "        return False\n",
    "a = input(\"Please enter a character, if you enter string it gives false :\")\n",
    "print(vowel(a))"
   ]
  }
 ],
 "metadata": {
  "kernelspec": {
   "display_name": "Python 3",
   "language": "python",
   "name": "python3"
  },
  "language_info": {
   "codemirror_mode": {
    "name": "ipython",
    "version": 3
   },
   "file_extension": ".py",
   "mimetype": "text/x-python",
   "name": "python",
   "nbconvert_exporter": "python",
   "pygments_lexer": "ipython3",
   "version": "3.7.6"
  }
 },
 "nbformat": 4,
 "nbformat_minor": 4
}
